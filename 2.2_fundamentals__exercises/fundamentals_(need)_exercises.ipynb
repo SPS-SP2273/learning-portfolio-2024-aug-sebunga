{
 "cells": [
  {
   "attachments": {},
   "cell_type": "markdown",
   "id": "123456",
   "metadata": {},
   "source": [
    "<div style=\"text-align:left;font-size:2em\"><span style=\"font-weight:bolder;font-size:1.25em\">SP2273 | Learning Portfolio</span><br><br><span style=\"font-weight:bold;color:darkred\">Fundamentals (Need) Exercises</span></div>"
   ]
  },
  {
   "cell_type": "markdown",
   "id": "61dd694c-4559-4147-a3b9-cb9514f63c5f",
   "metadata": {},
   "source": [
    "**Exercise 1**\n",
    "Python is case sensitive. It has functions like print(). It uses indents to separate code blocks. By default it can perform addition, multiplication, subtraction and division. It can also import in external packages for more functions. Hashtags can be used to make comments.\n",
    "\n",
    "*Python interprets code sequentially and will not read further if there are errors in lines in the middle or above. = is used to assign values and denote being equal while double = is used to ask if two values are equal. English text in quotation marks like \"this\" are strings while plaintext this can be used as a variable or value. The full stop (.) is used to denotate that a variable belongs to a function. Arguments for a function are placed within the brackets of a function. If is used to check for conditions and make decisions. Square brackets are used for lists while Curly brackets are used for dictionaries and sets*\n"
   ]
  },
  {
   "cell_type": "code",
   "execution_count": 1,
   "id": "7fc90359-9a3c-497d-b1cc-128316a32a38",
   "metadata": {},
   "outputs": [
    {
     "name": "stdout",
     "output_type": "stream",
     "text": [
      "3 4 5\n"
     ]
    }
   ],
   "source": [
    "#Exercise 2\n",
    "import math #need to obtain the sqrt function from the math package\n",
    "\n",
    "x, y = 3, 4\n",
    "# sqrt is not a function in basic python and . indicates it is part of the math package\n",
    "# also * is multiply but ** is to the power of\n",
    "z = int(math.sqrt((x**2) + (y**2))) \n",
    "#math.sqrt gives float by default so i changed z to an integer to match the others\n",
    "print(x, y, z) #case sensitive, Print editted into print\n"
   ]
  },
  {
   "cell_type": "markdown",
   "id": "bb54e596-a0e5-447d-9f1f-f85c078b22c2",
   "metadata": {},
   "source": [
    "Exercise 3\n",
    "\n",
    "| # | Term | Function |\n",
    "| - | ---- | ---------|\n",
    "| 1 | Function | A term that tells the python programme to carry out an action |\n",
    "| 2 | Arguments | Additional instructions specified to a function which are written in the brackets after the function name |\n",
    "| 3 | Comments |Non-coding text used to leave notes and make a piece of code more readable|\n",
    "| 4 | Identations |Spaces before a line of code used to assign it to a block of code|\n",
    "| 5 | Packages |External programmes with functions outside of basic python|\n",
    "| 6\t| .\t|A symbol used to link that something belongs to the something else after it|\n",
    "| 7\t| :\t|A symbol to indicate a new line or block of code|\n",
    "| 8\t| [] |Brackets where data for list type is written down|\n",
    "| 9\t| [[],[]] |A list inside of a list|\n",
    "| 10 | {} |Brackets where data in dictionaries and sets is listed|\n"
   ]
  },
  {
   "cell_type": "code",
   "execution_count": 2,
   "id": "655b1d6b-420f-479f-bd13-54f78236987f",
   "metadata": {},
   "outputs": [],
   "source": [
    "#Exercise 4 :D\n",
    "x=5/2 #divides to give a float answer\n",
    "y=5//2 #divides and rounds down to an integer\n",
    "z= 5%2 #divides and gives you the integer of the leftover / \n",
    "#numerator of the fraction of the resultant mixed fraction\n",
    "\n"
   ]
  },
  {
   "cell_type": "code",
   "execution_count": null,
   "id": "bc32b433-d711-4443-a477-a06d3dcbf476",
   "metadata": {},
   "outputs": [],
   "source": []
  }
 ],
 "metadata": {
  "kernelspec": {
   "display_name": "Python 3 (ipykernel)",
   "language": "python",
   "name": "python3"
  },
  "language_info": {
   "codemirror_mode": {
    "name": "ipython",
    "version": 3
   },
   "file_extension": ".py",
   "mimetype": "text/x-python",
   "name": "python",
   "nbconvert_exporter": "python",
   "pygments_lexer": "ipython3",
   "version": "3.12.3"
  },
  "toc": {
   "base_numbering": 1,
   "nav_menu": {},
   "number_sections": true,
   "sideBar": true,
   "skip_h1_title": false,
   "title_cell": "Table of Contents",
   "title_sidebar": "Contents",
   "toc_cell": false,
   "toc_position": {},
   "toc_section_display": true,
   "toc_window_display": false
  },
  "vscode": {
   "interpreter": {
    "hash": "31f2aee4e71d21fbe5cf8b01ff0e069b9275f58929596ceb00d14d90e3e16cd6"
   }
  }
 },
 "nbformat": 4,
 "nbformat_minor": 5
}
