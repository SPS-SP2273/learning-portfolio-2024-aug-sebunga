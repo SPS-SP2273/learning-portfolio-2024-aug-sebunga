{
 "cells": [
  {
   "attachments": {},
   "cell_type": "markdown",
   "id": "123456",
   "metadata": {},
   "source": [
    "<div style=\"text-align:left;font-size:2em\"><span style=\"font-weight:bolder;font-size:1.25em\">SP2273 | Learning Portfolio</span><br><br><span style=\"font-weight:bold;color:darkred\">Fundamentals (Good) Exercises</span></div>"
   ]
  },
  {
   "cell_type": "code",
   "execution_count": 1,
   "id": "f1fa4447-d36c-4c50-a340-df2ef4ca4b54",
   "metadata": {},
   "outputs": [
    {
     "name": "stdin",
     "output_type": "stream",
     "text": [
      "What's your name? lol\n"
     ]
    },
    {
     "name": "stdout",
     "output_type": "stream",
     "text": [
      "How you doing, LOL!\n"
     ]
    },
    {
     "name": "stdin",
     "output_type": "stream",
     "text": [
      "The user's name is? me\n",
      "And the user's age is? 8\n"
     ]
    },
    {
     "name": "stdout",
     "output_type": "stream",
     "text": [
      "My name is ME and my age is 8\n",
      "The value of pi to 2 decimal places is 3.14\n",
      "The value of pi to 3 decimal places is 3.142\n",
      "The value of pi to 4 decimal places is 3.1416\n",
      "Apple      $ 0.99\n",
      "Banana     $ 0.59\n",
      "Orange     $ 1.29\n"
     ]
    }
   ],
   "source": [
    "#Exercise 1.1\n",
    "\n",
    "name = input(\"What's your name?\")\n",
    "print(f\"How you doing, {name.upper()}!\") #curly brackets specify it's a function\n",
    "\n",
    "\n",
    "#Exercise 1.2\n",
    "name = input(\"The user's name is?\")\n",
    "age = input(\"And the user's age is?\")\n",
    "\n",
    "print(f\"My name is {name.upper()} and my age is {age}\")\n",
    "\n",
    "\n",
    "#Exercise 1.3\n",
    "pi = 3.141592653589793\n",
    "print(f\"The value of pi to 2 decimal places is {pi:.2f}\") #Have to put in : to denote is not just decimal\n",
    "print(f\"The value of pi to 3 decimal places is {pi:.3f}\")\n",
    "print(f\"The value of pi to 4 decimal places is {pi:.4f}\")\n",
    "\n",
    "\n",
    "## Exercise 1.4: Spacing\n",
    "\n",
    "print(f\"{'Apple':<10} ${'0.99':>5}\\n{'Banana':<10} ${'0.59':>5}\\n{'Orange':<10} ${'1.29':>5}\")\n"
   ]
  },
  {
   "cell_type": "code",
   "execution_count": 2,
   "id": "470d3239-a4a6-4d44-bc04-b0e03fb30926",
   "metadata": {},
   "outputs": [
    {
     "name": "stdin",
     "output_type": "stream",
     "text": [
      "Enter the student's score: 80\n"
     ]
    },
    {
     "name": "stdout",
     "output_type": "stream",
     "text": [
      "Student's grade is A\n"
     ]
    }
   ],
   "source": [
    "#Exercise 2\n",
    "\n",
    "score = input(\"Enter the student's score:\") #By default inputs are strings?\n",
    "\n",
    "\n",
    "#This part all works\n",
    "int_score = int(score)\n",
    "\n",
    "if int_score >= 70 and int_score <= 100:\n",
    "    print(\"Student's grade is A\")\n",
    "\n",
    "elif int_score >= 50 and int_score <= 69:\n",
    "    print(\"Student's grade is B\")\n",
    "\n",
    "elif int_score >= 35 and int_score <= 49:\n",
    "    print(\"Student's grade is C\")\n",
    "\n",
    "elif int_score >= 0 and int_score <= 34:\n",
    "    print(\"Student obtained a fail\")\n",
    "\n",
    "else:\n",
    "    print(\"Invalid score\")\n"
   ]
  },
  {
   "cell_type": "code",
   "execution_count": 3,
   "id": "508af7c2-243d-4c5d-b4a2-dd05bd5245c4",
   "metadata": {},
   "outputs": [
    {
     "name": "stdout",
     "output_type": "stream",
     "text": [
      "120\n",
      "Invalid input\n"
     ]
    }
   ],
   "source": [
    "\n",
    "#Exercise 3 (Debugging)\n",
    "def factorial(n):\n",
    "    if n < 0: #should be less than 0\n",
    "        return \"Invalid input\"\n",
    "    elif n == 0: #0 factorial is 1\n",
    "        return 1\n",
    "    else:\n",
    "        result = 1\n",
    "        for number in range(1, n+1):\n",
    "            result *= number #+= is shorthand for addition but multiplication should be used\n",
    "        return result\n",
    "\n",
    "\n",
    "print(factorial(5))   # Testing, expected output: 120\n",
    "print(factorial(-1))  # Testing, expected output: Invalid input\n"
   ]
  },
  {
   "cell_type": "code",
   "execution_count": null,
   "id": "203a2354-3152-4fc2-b144-20fa93ba7be3",
   "metadata": {},
   "outputs": [],
   "source": []
  }
 ],
 "metadata": {
  "kernelspec": {
   "display_name": "Python 3 (ipykernel)",
   "language": "python",
   "name": "python3"
  },
  "language_info": {
   "codemirror_mode": {
    "name": "ipython",
    "version": 3
   },
   "file_extension": ".py",
   "mimetype": "text/x-python",
   "name": "python",
   "nbconvert_exporter": "python",
   "pygments_lexer": "ipython3",
   "version": "3.12.3"
  },
  "toc": {
   "base_numbering": 1,
   "nav_menu": {},
   "number_sections": true,
   "sideBar": true,
   "skip_h1_title": false,
   "title_cell": "Table of Contents",
   "title_sidebar": "Contents",
   "toc_cell": false,
   "toc_position": {},
   "toc_section_display": true,
   "toc_window_display": false
  },
  "vscode": {
   "interpreter": {
    "hash": "31f2aee4e71d21fbe5cf8b01ff0e069b9275f58929596ceb00d14d90e3e16cd6"
   }
  }
 },
 "nbformat": 4,
 "nbformat_minor": 5
}
