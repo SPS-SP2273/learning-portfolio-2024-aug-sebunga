{
 "cells": [
  {
   "attachments": {},
   "cell_type": "markdown",
   "id": "123456",
   "metadata": {},
   "source": [
    "<div style=\"text-align:left;font-size:2em\"><span style=\"font-weight:bolder;font-size:1.25em\">SP2273 | Learning Portfolio</span><br><br><span style=\"font-weight:bold;color:darkred\">Functions (Good) Exercises</span></div>"
   ]
  },
  {
   "cell_type": "code",
   "execution_count": 34,
   "id": "d8fcab90-7c05-40a0-92ac-9e068ef2e2ee",
   "metadata": {},
   "outputs": [
    {
     "name": "stdout",
     "output_type": "stream",
     "text": [
      "273.15\n"
     ]
    }
   ],
   "source": [
    "#Exercise 1\n",
    "\n",
    "def convert_celsius(temperature_celsius,target_scale=str('Farenheight')):\n",
    "    if target_scale == 'Farenheight':\n",
    "        converted_farenheight = temperature_celsius*9/5 + 32\n",
    "        return converted_farenheight\n",
    "    else:\n",
    "        converted_kelvin = temperature_celsius + 273.15\n",
    "        return converted_kelvin\n",
    "       \n",
    "\n",
    "test = convert_celsius(0, 'kelvin')\n",
    "print(test)"
   ]
  },
  {
   "cell_type": "code",
   "execution_count": 37,
   "id": "523a2a68-a528-48c5-b7a7-323d27c43162",
   "metadata": {},
   "outputs": [
    {
     "name": "stdout",
     "output_type": "stream",
     "text": [
      "255.3722222222222\n"
     ]
    }
   ],
   "source": [
    "#Exercise 2\n",
    "\n",
    "def convert_farenheight(temperature_farenheight, target_scale = str('Celsius')):\n",
    "    if target_scale == 'Celsius':\n",
    "        converted_celsius = (temperature_farenheight - 32)*5/9\n",
    "        return converted_celsius\n",
    "    else:\n",
    "        converted_kelvin = (temperature_farenheight - 32)* 5/9 +273.15\n",
    "        return converted_kelvin\n",
    "\n",
    "f = convert_farenheight(0,'lol')\n",
    "print(f)"
   ]
  },
  {
   "cell_type": "code",
   "execution_count": null,
   "id": "0f4e7f17-f2ce-46bf-b70f-71ef0c69b1ee",
   "metadata": {},
   "outputs": [],
   "source": [
    "#Exercise 3\n",
    "def convert_celsius(temperature_celsius,target_scale=str('Farenheight')):\n",
    "    if target_scale == 'Farenheight':\n",
    "        converted_farenheight = temperature_celsius*9/5 + 32\n",
    "        return converted_farenheight\n",
    "    else:\n",
    "        converted_kelvin = temperature_celsius + 273.15\n",
    "        return converted_kelvin\n",
    "\n",
    "def convert_farenheight(temperature_farenheight, target_scale = str('Celsius')):\n",
    "    if target_scale == 'Celsius':\n",
    "        converted_celsius = (temperature_farenheight - 32)*5/9\n",
    "        return converted_celsius\n",
    "    else:\n",
    "        converted_kelvin = (temperature_farenheight - 32)* 5/9 +273.15\n",
    "        return converted_kelvin\n",
    "\n",
    "def convert_temperature(temperature,source_scale,target_scale)"
   ]
  }
 ],
 "metadata": {
  "kernelspec": {
   "display_name": "Python 3 (ipykernel)",
   "language": "python",
   "name": "python3"
  },
  "language_info": {
   "codemirror_mode": {
    "name": "ipython",
    "version": 3
   },
   "file_extension": ".py",
   "mimetype": "text/x-python",
   "name": "python",
   "nbconvert_exporter": "python",
   "pygments_lexer": "ipython3",
   "version": "3.12.3"
  },
  "toc": {
   "base_numbering": 1,
   "nav_menu": {},
   "number_sections": true,
   "sideBar": true,
   "skip_h1_title": false,
   "title_cell": "Table of Contents",
   "title_sidebar": "Contents",
   "toc_cell": false,
   "toc_position": {},
   "toc_section_display": true,
   "toc_window_display": false
  },
  "vscode": {
   "interpreter": {
    "hash": "31f2aee4e71d21fbe5cf8b01ff0e069b9275f58929596ceb00d14d90e3e16cd6"
   }
  }
 },
 "nbformat": 4,
 "nbformat_minor": 5
}
