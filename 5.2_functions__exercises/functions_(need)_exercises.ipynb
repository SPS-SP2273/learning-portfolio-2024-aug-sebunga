{
 "cells": [
  {
   "attachments": {},
   "cell_type": "markdown",
   "id": "123456",
   "metadata": {},
   "source": [
    "<div style=\"text-align:left;font-size:2em\"><span style=\"font-weight:bolder;font-size:1.25em\">SP2273 | Learning Portfolio</span><br><br><span style=\"font-weight:bold;color:darkred\">Functions (Need) Exercises</span></div>"
   ]
  },
  {
   "cell_type": "markdown",
   "id": "38a92685-b646-44b3-9763-8a677f0f4bb2",
   "metadata": {},
   "source": [
    "## Exercise 1\n",
    "def greeting(name):\n",
    "    if name == 'Batman':\n",
    "        return 'Hello Batman! So, nice to meet you!'\n",
    "    return f'Hello {name}!'\n",
    "\n",
    "Even without an else statement this works because the keyword return will jump out of the bloc?"
   ]
  },
  {
   "cell_type": "code",
   "execution_count": 7,
   "id": "9d99b79e-cf79-4527-a651-350cebcd1b5f",
   "metadata": {},
   "outputs": [
    {
     "data": {
      "text/plain": [
       "'BMI = Overweight'"
      ]
     },
     "execution_count": 7,
     "metadata": {},
     "output_type": "execute_result"
    }
   ],
   "source": [
    "#Exercise 2\n",
    "def calculate_bmi(weight,height):\n",
    "    bmi= weight / (height ** 2)\n",
    "    if bmi <18.5:\n",
    "        return 'BMI = Underweight'\n",
    "    elif bmi < 24.9:\n",
    "        return 'BMI = Normal weight'\n",
    "    elif bmi < 29.9:\n",
    "        return 'BMI = Overweight'\n",
    "    else:\n",
    "        return 'BMI = Obese'\n",
    "\n",
    "calculate_bmi(75,1.6)\n",
    "    "
   ]
  },
  {
   "cell_type": "code",
   "execution_count": 5,
   "id": "066f7c38-9cc1-4f21-aff2-7e30b774f8ab",
   "metadata": {},
   "outputs": [
    {
     "name": "stdout",
     "output_type": "stream",
     "text": [
      "120\n"
     ]
    }
   ],
   "source": [
    "#Exercise 3\n",
    "\n",
    "def factorial(n):\n",
    "    if n > 0:\n",
    "        factorial_value = n\n",
    "        for i in range (1,n):\n",
    "            factorial_value *= i\n",
    "        return factorial_value\n",
    "    else:\n",
    "        return 'Error'\n",
    "\n",
    "#print(factorial(5))   "
   ]
  },
  {
   "cell_type": "code",
   "execution_count": null,
   "id": "f42d4a50-dcfd-4246-b2fd-4bd8580b0e9d",
   "metadata": {},
   "outputs": [],
   "source": []
  }
 ],
 "metadata": {
  "kernelspec": {
   "display_name": "Python 3 (ipykernel)",
   "language": "python",
   "name": "python3"
  },
  "language_info": {
   "codemirror_mode": {
    "name": "ipython",
    "version": 3
   },
   "file_extension": ".py",
   "mimetype": "text/x-python",
   "name": "python",
   "nbconvert_exporter": "python",
   "pygments_lexer": "ipython3",
   "version": "3.12.3"
  },
  "toc": {
   "base_numbering": 1,
   "nav_menu": {},
   "number_sections": true,
   "sideBar": true,
   "skip_h1_title": false,
   "title_cell": "Table of Contents",
   "title_sidebar": "Contents",
   "toc_cell": false,
   "toc_position": {},
   "toc_section_display": true,
   "toc_window_display": false
  },
  "vscode": {
   "interpreter": {
    "hash": "31f2aee4e71d21fbe5cf8b01ff0e069b9275f58929596ceb00d14d90e3e16cd6"
   }
  }
 },
 "nbformat": 4,
 "nbformat_minor": 5
}
