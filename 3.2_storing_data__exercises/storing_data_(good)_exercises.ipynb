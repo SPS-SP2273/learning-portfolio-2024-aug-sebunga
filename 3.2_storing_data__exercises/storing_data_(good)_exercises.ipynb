{
 "cells": [
  {
   "attachments": {},
   "cell_type": "markdown",
   "id": "123456",
   "metadata": {},
   "source": [
    "<div style=\"text-align:left;font-size:2em\"><span style=\"font-weight:bolder;font-size:1.25em\">SP2273 | Learning Portfolio</span><br><br><span style=\"font-weight:bold;color:darkred\">Storing Data (Good) Exercises</span></div>"
   ]
  },
  {
   "cell_type": "markdown",
   "id": "c4faa66a-5a25-4656-9a00-f443e44dc5dd",
   "metadata": {},
   "source": [
    "### Notes\n",
    "- np_array / list name [] <br>\n",
    "Put the selection critera in the square brackets :D <br>\n",
    "    - Singular index will extract 1 value from that corresponding sequence\n",
    "    - x:y is a range\n",
    "    - x: is starting from x\n",
    "    - x to 0 to x\n",
    "    - x:y:-1 is reverse sequence of that range\n",
    "    - x:y:z is range of x to y with steps of z\n",
    "<br>\n",
    "- For multidimensional lists and arrays, individual values are still treated as one block within lists much like how the entire list acts as a block when doing mathematics or checks. One condition is applied then, another condition is applied within those conditons. [\\:3][0] will yield index 0 of shortened range from 0 to 2. <br> Meanwhile for arrays, the conditions are applied in a more \"independent?\" way. [:3,0] will yield position 0 from all 2d values from range index 0 to 2. Like there are 2 different types of conditions being applied, one of the range of the 2d values then one within those 2d \"lists within a lists\"\n",
    "- Lists are useful for the ability to add new values to them although they are more limited in mathematical functions? Lists can also be converted into arrays for the purpose of doing math afterwards so they can be used together for their specific strengths."
   ]
  },
  {
   "cell_type": "markdown",
   "id": "e1a186ee-5af3-40a8-bb17-6ec309d914a2",
   "metadata": {},
   "source": [
    "### Exercise 1\n",
    "|**Term** | **Description** |\n",
    "|-----|--------|\n",
    "|Subsetting| The act of selecting specific values from a list or array |\n",
    "|Indexxing| Subsetting a value by selecting for its specific sequence|\n",
    "|Slicing| Subsetting for a series of values by setting down a range or position to start from or end at|\n",
    "|Masking| Subsetting by selecting for values within arrays that are true according to other conditions that were set|"
   ]
  },
  {
   "cell_type": "code",
   "execution_count": null,
   "id": "04725df9-1b91-4ff5-980a-962d77a33f4a",
   "metadata": {},
   "outputs": [],
   "source": []
  },
  {
   "cell_type": "code",
   "execution_count": null,
   "id": "7980dc13-5dfa-4ad3-9ee9-b01c6ade5194",
   "metadata": {},
   "outputs": [],
   "source": []
  },
  {
   "cell_type": "code",
   "execution_count": null,
   "id": "ddf244c6-0c63-4c29-bf18-384d21af680e",
   "metadata": {},
   "outputs": [],
   "source": []
  }
 ],
 "metadata": {
  "kernelspec": {
   "display_name": "Python 3 (ipykernel)",
   "language": "python",
   "name": "python3"
  },
  "language_info": {
   "codemirror_mode": {
    "name": "ipython",
    "version": 3
   },
   "file_extension": ".py",
   "mimetype": "text/x-python",
   "name": "python",
   "nbconvert_exporter": "python",
   "pygments_lexer": "ipython3",
   "version": "3.12.3"
  },
  "toc": {
   "base_numbering": 1,
   "nav_menu": {},
   "number_sections": true,
   "sideBar": true,
   "skip_h1_title": false,
   "title_cell": "Table of Contents",
   "title_sidebar": "Contents",
   "toc_cell": false,
   "toc_position": {},
   "toc_section_display": true,
   "toc_window_display": false
  },
  "vscode": {
   "interpreter": {
    "hash": "31f2aee4e71d21fbe5cf8b01ff0e069b9275f58929596ceb00d14d90e3e16cd6"
   }
  }
 },
 "nbformat": 4,
 "nbformat_minor": 5
}
