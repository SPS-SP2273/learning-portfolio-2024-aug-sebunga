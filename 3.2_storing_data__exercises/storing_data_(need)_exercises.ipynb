{
 "cells": [
  {
   "attachments": {},
   "cell_type": "markdown",
   "id": "123456",
   "metadata": {},
   "source": [
    "<div style=\"text-align:left;font-size:2em\"><span style=\"font-weight:bolder;font-size:1.25em\">SP2273 | Learning Portfolio</span><br><br><span style=\"font-weight:bold;color:darkred\">Storing Data (Need) Exercises</span></div>"
   ]
  },
  {
   "cell_type": "markdown",
   "id": "1acc3f6b-f659-46a4-8446-f0a1fb72d2c3",
   "metadata": {},
   "source": [
    "### Exercise 1 + Notes\n",
    "Both arrays and lists contain multiple individual pieces of data that can be separately extracted and displayed.\n",
    "<br> Data in arrays needs to be the same type and operations to arrays (like addition, multiplication and squaring) occurs to all the values inside the array while operations to lists treat the whole list as one 'block'?<br>\n",
    "A dictionary is another way for multiple values to be stored where each value corresponds to a 'key'. They keys and data can be accessed separately but where simply naming the position can extract a value in a list or array, the corresponding must be given for dictionaries instead.\n",
    "\n",
    "|||\n",
    "|-|-|\n",
    "|py_list == 3| This checks if the list|\n",
    "|np_array == 3| This checks the values in the array if they have the value 3|\n",
    "|np_array > 3| This checks the values in the array individually if they are larger than 3|"
   ]
  },
  {
   "cell_type": "code",
   "execution_count": 33,
   "id": "0638b87e-54a7-48ff-8655-aac630bac71d",
   "metadata": {},
   "outputs": [
    {
     "data": {
      "text/plain": [
       "False"
      ]
     },
     "execution_count": 33,
     "metadata": {},
     "output_type": "execute_result"
    }
   ],
   "source": [
    "import numpy as np\n",
    "py_list = [1, 2, 3, 4, 5]\n",
    "np_array = np.array(py_list)         \n",
    "\n",
    "py_list == 3"
   ]
  },
  {
   "cell_type": "code",
   "execution_count": 18,
   "id": "b9e9c9d0-950d-4ac4-a53a-af26db2845ed",
   "metadata": {},
   "outputs": [
    {
     "name": "stdout",
     "output_type": "stream",
     "text": [
      "a1\n",
      "c3\n",
      "e5\n",
      "g7\n",
      "i9\n"
     ]
    }
   ],
   "source": [
    "#Exercise 2\n",
    "py_list = [\"a1\", \"b2\", \"c3\", \"d4\", \"e5\", \"f6\", \"g7\", \"h8\", \"i9\", \"j10\"]\n",
    "print(py_list[0])   # Prints 'a1'\n",
    "print(py_list[2])   # Prints 'c3'\n",
    "print(py_list[4])   # Prints 'e5'\n",
    "print(py_list[6])   # Prints 'g7'\n",
    "print(py_list[8])   # Prints 'i9'"
   ]
  },
  {
   "cell_type": "code",
   "execution_count": 20,
   "id": "07f9ee46-538e-48d8-931a-dde8cd5e7ff3",
   "metadata": {},
   "outputs": [
    {
     "name": "stdout",
     "output_type": "stream",
     "text": [
      "Beryllium\n",
      "Beryllium\n"
     ]
    }
   ],
   "source": [
    "#Exercise 3\n",
    "elements = ['Hydrogen',\n",
    "            'Helium', 'Lithium',\n",
    "            'Beryllium', 'Boron', 'Carbon',\n",
    "            'Nitrogen', 'Oxygen',\n",
    "            'Fluorine',\n",
    "            'Neon']\n",
    "print(elements[3]) #forward indexing\n",
    "print(elements[-7])"
   ]
  },
  {
   "cell_type": "code",
   "execution_count": 4,
   "id": "8719e25e-8a3c-4ebd-a5b5-8e25bfa9a5c3",
   "metadata": {},
   "outputs": [
    {
     "data": {
      "text/plain": [
       "np.int64(9)"
      ]
     },
     "execution_count": 4,
     "metadata": {},
     "output_type": "execute_result"
    }
   ],
   "source": [
    "#Exercise 4\n",
    "import numpy as np\n",
    "numbers=[45, 60, 1, 30, 96, 1, 96, 57, 16, 1,\n",
    "        99, 62, 86, 43, 42, 60, 59, 1, 1, 35,\n",
    "        83, 47, 34, 28, 68, 23, 22, 92, 1, 79,\n",
    "        1, 29, 94, 72, 46, 47, 1, 74, 32, 20,\n",
    "        8, 37, 35, 1, 89, 29, 86, 19, 43, 61]  \n",
    "np_numbers=np.array(numbers) #Could also give a name to output array by putting \"name =\" in front\n",
    "sum(np_numbers == 1)"
   ]
  },
  {
   "cell_type": "code",
   "execution_count": 17,
   "id": "f2b718f2-8af6-4b59-9759-4d9724d73adb",
   "metadata": {},
   "outputs": [
    {
     "name": "stdout",
     "output_type": "stream",
     "text": [
      "0.9871796626270701\n"
     ]
    },
    {
     "data": {
      "text/plain": [
       "array([[1.        , 0.98717966],\n",
       "       [0.98717966, 1.        ]])"
      ]
     },
     "execution_count": 17,
     "metadata": {},
     "output_type": "execute_result"
    }
   ],
   "source": [
    "#Exercise 5\n",
    "import numpy as np\n",
    "\n",
    "x_1 = [1, 4, 9, 16, 25, 36, 49, 64, 81, 100]\n",
    "x_2 = [1, 8, 27, 64, 125, 216, 343, 512, 729, 1000]\n",
    "\n",
    "x_1_array = np.array(x_1)\n",
    "x_2_array = np.array(x_2)\n",
    "\n",
    "mean1=x_1_array.mean()\n",
    "mean2=x_2_array.mean()\n",
    "\n",
    "std1=x_1_array.std()\n",
    "std2=x_2_array.std()\n",
    "\n",
    "a=(x_1_array - mean1)\n",
    "b=(x_2_array - mean2)\n",
    "\n",
    "r=np.sum(a*b)/np.sqrt(np.sum(a**2)*np.sum(b**2))\n",
    "print(r)\n",
    "\n",
    "np.corrcoef(x_1,x_2)"
   ]
  },
  {
   "cell_type": "code",
   "execution_count": null,
   "id": "146b0e25-f274-4b40-9ac5-153ffc73adf3",
   "metadata": {},
   "outputs": [],
   "source": []
  }
 ],
 "metadata": {
  "kernelspec": {
   "display_name": "Python 3 (ipykernel)",
   "language": "python",
   "name": "python3"
  },
  "language_info": {
   "codemirror_mode": {
    "name": "ipython",
    "version": 3
   },
   "file_extension": ".py",
   "mimetype": "text/x-python",
   "name": "python",
   "nbconvert_exporter": "python",
   "pygments_lexer": "ipython3",
   "version": "3.12.3"
  },
  "toc": {
   "base_numbering": 1,
   "nav_menu": {},
   "number_sections": true,
   "sideBar": true,
   "skip_h1_title": false,
   "title_cell": "Table of Contents",
   "title_sidebar": "Contents",
   "toc_cell": false,
   "toc_position": {},
   "toc_section_display": true,
   "toc_window_display": false
  },
  "vscode": {
   "interpreter": {
    "hash": "31f2aee4e71d21fbe5cf8b01ff0e069b9275f58929596ceb00d14d90e3e16cd6"
   }
  }
 },
 "nbformat": 4,
 "nbformat_minor": 5
}
