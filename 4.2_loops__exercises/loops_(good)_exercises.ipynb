{
 "cells": [
  {
   "attachments": {},
   "cell_type": "markdown",
   "id": "123456",
   "metadata": {},
   "source": [
    "<div style=\"text-align:left;font-size:2em\"><span style=\"font-weight:bolder;font-size:1.25em\">SP2273 | Learning Portfolio</span><br><br><span style=\"font-weight:bold;color:darkred\">Loops (Good) Exercises</span></div>"
   ]
  },
  {
   "cell_type": "code",
   "execution_count": 25,
   "id": "31d0d9c2-8ee7-43af-ac1c-842681e12bb7",
   "metadata": {},
   "outputs": [
    {
     "name": "stdout",
     "output_type": "stream",
     "text": [
      "[1, 9, 25, 49, 81]\n"
     ]
    }
   ],
   "source": [
    "#Exercise 1\n",
    "hello=[]\n",
    "\n",
    "for i in range(1,10):\n",
    "    if i%2 == 0:\n",
    "        continue\n",
    "    hello.append(i**2)\n",
    "    \n",
    "\n",
    "print(hello)\n",
    "\n"
   ]
  },
  {
   "cell_type": "code",
   "execution_count": 23,
   "id": "9af97618-f256-4a41-8849-bc044fa6fad2",
   "metadata": {},
   "outputs": [
    {
     "name": "stdout",
     "output_type": "stream",
     "text": [
      "[1, 9, 25, 49, 81]\n"
     ]
    }
   ],
   "source": [
    "\n",
    "#Exercise 2\n",
    "hello = [i**2 for i in range(1,10) if i%2 == 1]\n",
    "print(hello)\n"
   ]
  },
  {
   "cell_type": "markdown",
   "id": "729e9cfd-c68e-49af-b0ca-ef0648e3a8a7",
   "metadata": {},
   "source": [
    "## Exercise 3\n",
    "\n",
    "First method gives 14 μs ± 807 ns per loop (mean ± std. dev. of 7 runs, 100,000 loops each).\n",
    "List comprehension gives 13.3 μs ± 660 ns per loop (mean ± std. dev. of 7 runs, 100,000 loops each).\n",
    "\n",
    "List comprehension is faster"
   ]
  },
  {
   "cell_type": "code",
   "execution_count": null,
   "id": "ad8dd86d-c471-4404-8606-62e709f519c3",
   "metadata": {},
   "outputs": [],
   "source": [
    "#Exercise 4\n",
    "\n",
    "units = 100 \n",
    "years = 0\n",
    "\n",
    "while units > 0:\n",
    "   units = 0.95*units\n",
    "    years + 1\n",
    "    continue\n",
    "    \n",
    "print(years)"
   ]
  },
  {
   "cell_type": "code",
   "execution_count": null,
   "id": "07434bd7-d1c9-4d59-9a3a-60c713466201",
   "metadata": {},
   "outputs": [],
   "source": []
  }
 ],
 "metadata": {
  "kernelspec": {
   "display_name": "Python 3 (ipykernel)",
   "language": "python",
   "name": "python3"
  },
  "language_info": {
   "codemirror_mode": {
    "name": "ipython",
    "version": 3
   },
   "file_extension": ".py",
   "mimetype": "text/x-python",
   "name": "python",
   "nbconvert_exporter": "python",
   "pygments_lexer": "ipython3",
   "version": "3.12.3"
  },
  "toc": {
   "base_numbering": 1,
   "nav_menu": {},
   "number_sections": true,
   "sideBar": true,
   "skip_h1_title": false,
   "title_cell": "Table of Contents",
   "title_sidebar": "Contents",
   "toc_cell": false,
   "toc_position": {},
   "toc_section_display": true,
   "toc_window_display": false
  },
  "vscode": {
   "interpreter": {
    "hash": "31f2aee4e71d21fbe5cf8b01ff0e069b9275f58929596ceb00d14d90e3e16cd6"
   }
  }
 },
 "nbformat": 4,
 "nbformat_minor": 5
}
