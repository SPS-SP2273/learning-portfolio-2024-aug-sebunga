{
 "cells": [
  {
   "attachments": {},
   "cell_type": "markdown",
   "id": "123456",
   "metadata": {},
   "source": [
    "<div style=\"text-align:left;font-size:2em\"><span style=\"font-weight:bolder;font-size:1.25em\">SP2273 | Learning Portfolio</span><br><br><span style=\"font-weight:bold;color:darkred\">Loops (Good) Exercises</span></div>"
   ]
  },
  {
   "cell_type": "code",
   "execution_count": 25,
   "id": "31d0d9c2-8ee7-43af-ac1c-842681e12bb7",
   "metadata": {},
   "outputs": [
    {
     "name": "stdout",
     "output_type": "stream",
     "text": [
      "[1, 9, 25, 49, 81]\n"
     ]
    }
   ],
   "source": [
    "#Exercise 1\n",
    "hello=[]\n",
    "\n",
    "for i in range(1,10):\n",
    "    if i%2 == 0:\n",
    "        continue\n",
    "    hello.append(i**2)\n",
    "    \n",
    "\n",
    "print(hello)\n",
    "\n"
   ]
  },
  {
   "cell_type": "code",
   "execution_count": 23,
   "id": "9af97618-f256-4a41-8849-bc044fa6fad2",
   "metadata": {},
   "outputs": [
    {
     "name": "stdout",
     "output_type": "stream",
     "text": [
      "[1, 9, 25, 49, 81]\n"
     ]
    }
   ],
   "source": [
    "\n",
    "#Exercise 2\n",
    "hello = [i**2 for i in range(1,10) if i%2 == 1]\n",
    "print(hello)\n"
   ]
  },
  {
   "cell_type": "markdown",
   "id": "729e9cfd-c68e-49af-b0ca-ef0648e3a8a7",
   "metadata": {},
   "source": [
    "## Exercise 3\n",
    "\n",
    "First method gives 14 μs ± 807 ns per loop (mean ± std. dev. of 7 runs, 100,000 loops each).\n",
    "List comprehension gives 13.3 μs ± 660 ns per loop (mean ± std. dev. of 7 runs, 100,000 loops each).\n",
    "\n",
    "List comprehension is faster"
   ]
  },
  {
   "cell_type": "code",
   "execution_count": 51,
   "id": "ad8dd86d-c471-4404-8606-62e709f519c3",
   "metadata": {},
   "outputs": [
    {
     "name": "stdout",
     "output_type": "stream",
     "text": [
      "14\n"
     ]
    }
   ],
   "source": [
    "#Exercise 4\n",
    "\n",
    "units = 100 \n",
    "years = 0\n",
    "\n",
    "while units > 50:\n",
    "    units = units - 0.05*units\n",
    "    years += 1\n",
    "\n",
    "print(years)\n"
   ]
  },
  {
   "cell_type": "code",
   "execution_count": 2,
   "id": "24a4c5ae-004a-4a70-b916-0af68fa5e673",
   "metadata": {},
   "outputs": [
    {
     "name": "stdout",
     "output_type": "stream",
     "text": [
      " Year: 2015 to 2016, Increase in CO2: 3.410000000000025 ppm\n"
     ]
    }
   ],
   "source": [
    "#Exercise 5\n",
    "import numpy as np\n",
    "co2_data = [\n",
    "    (2000, 369.55), (2001, 371.14), (2002, 373.28), \n",
    "    (2003, 375.80), (2004, 377.52), (2005, 379.80), \n",
    "    (2006, 381.90), (2007, 383.79), (2008, 385.60), \n",
    "    (2009, 387.43), (2010, 389.90), (2011, 391.65), \n",
    "    (2012, 393.85), (2013, 396.52), (2014, 398.65),\n",
    "    (2015, 400.83), (2016, 404.24), (2017, 406.55), \n",
    "    (2018, 408.52), (2019, 411.44), (2020, 414.24)\n",
    "]\n",
    "\n",
    "for i in range (0,(len(co2_data)-1)):\n",
    "    year = co2_data[i][0]\n",
    "    co2_level = co2_data[i][1]\n",
    "    next_year = co2_data[i+1][0]\n",
    "    next_co2_level= co2_data[i+1][1]\n",
    "    co2_increase = next_co2_level - co2_level\n",
    "    if co2_increase > 3:\n",
    "        print(f' Year: {year} to {next_year}, Increase in CO2: {co2_increase} ppm')\n",
    "\n"
   ]
  },
  {
   "cell_type": "code",
   "execution_count": null,
   "id": "bc00577c-80be-44eb-8c0a-e6777f46969e",
   "metadata": {},
   "outputs": [],
   "source": []
  }
 ],
 "metadata": {
  "kernelspec": {
   "display_name": "Python 3 (ipykernel)",
   "language": "python",
   "name": "python3"
  },
  "language_info": {
   "codemirror_mode": {
    "name": "ipython",
    "version": 3
   },
   "file_extension": ".py",
   "mimetype": "text/x-python",
   "name": "python",
   "nbconvert_exporter": "python",
   "pygments_lexer": "ipython3",
   "version": "3.12.3"
  },
  "toc": {
   "base_numbering": 1,
   "nav_menu": {},
   "number_sections": true,
   "sideBar": true,
   "skip_h1_title": false,
   "title_cell": "Table of Contents",
   "title_sidebar": "Contents",
   "toc_cell": false,
   "toc_position": {},
   "toc_section_display": true,
   "toc_window_display": false
  },
  "vscode": {
   "interpreter": {
    "hash": "31f2aee4e71d21fbe5cf8b01ff0e069b9275f58929596ceb00d14d90e3e16cd6"
   }
  }
 },
 "nbformat": 4,
 "nbformat_minor": 5
}
