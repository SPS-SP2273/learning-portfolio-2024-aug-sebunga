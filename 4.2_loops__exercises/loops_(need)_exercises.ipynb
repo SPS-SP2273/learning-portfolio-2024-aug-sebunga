{
 "cells": [
  {
   "attachments": {},
   "cell_type": "markdown",
   "id": "123456",
   "metadata": {},
   "source": [
    "<div style=\"text-align:left;font-size:2em\"><span style=\"font-weight:bolder;font-size:1.25em\">SP2273 | Learning Portfolio</span><br><br><span style=\"font-weight:bold;color:darkred\">Loops (Need) Exercises</span></div>"
   ]
  },
  {
   "cell_type": "code",
   "execution_count": 8,
   "id": "48d1c8bf-6a5e-40dc-a294-df223129674c",
   "metadata": {},
   "outputs": [
    {
     "name": "stdout",
     "output_type": "stream",
     "text": [
      "Farenheit:32.0, Celsius:0\n",
      "Farenheit:41.0, Celsius:5\n",
      "Farenheit:50.0, Celsius:10\n",
      "Farenheit:59.0, Celsius:15\n",
      "Farenheit:68.0, Celsius:20\n",
      "Farenheit:77.0, Celsius:25\n",
      "Farenheit:86.0, Celsius:30\n",
      "Farenheit:95.0, Celsius:35\n",
      "Farenheit:104.0, Celsius:40\n",
      "Farenheit:113.0, Celsius:45\n",
      "Farenheit:122.0, Celsius:50\n"
     ]
    }
   ],
   "source": [
    "#Exercise 1\n",
    "\n",
    "temperatures_celsius = [0, 5, 10, 15, 20, 25, 30, 35, 40, 45, 50]\n",
    "\n",
    "for celsius in temperatures_celsius: #NOTE FOR ME: 'in' is like assigning a variable name for the stuff within the list? \n",
    "    farenheit = (celsius * 9/5) + 32\n",
    "    print(f'Farenheit:{farenheit}, Celsius:{celsius}')"
   ]
  },
  {
   "cell_type": "code",
   "execution_count": 26,
   "id": "88096ed7-4502-4638-b49e-8aea2e04e30c",
   "metadata": {},
   "outputs": [
    {
     "name": "stdout",
     "output_type": "stream",
     "text": [
      "1: 1\t2\t3\t4\t5\t\t\n",
      "2: 2\t4\t6\t8\t10\t\t\n",
      "3: 3\t6\t9\t12\t15\t\t\n",
      "4: 4\t8\t12\t16\t20\t\t\n",
      "5: 5\t10\t15\t20\t25\t\t\n"
     ]
    }
   ],
   "source": [
    "#Exercise 2\n",
    "#can use enumerate\n",
    "number = [1,2,3,4,5]\n",
    "for count, no in enumerate(number,1):\n",
    "    print(f'{count}', end=': ') #by default the end of a print is a new line, 'end =' can rebind it\n",
    "    for i in range(1,6):\n",
    "        print(f'{no*i}', end = '\\t')\n",
    "    print('\\t')\n",
    "        "
   ]
  },
  {
   "cell_type": "code",
   "execution_count": null,
   "id": "7714199a-b306-4e36-a273-c27a81198954",
   "metadata": {},
   "outputs": [],
   "source": []
  },
  {
   "cell_type": "code",
   "execution_count": null,
   "id": "5b140311-2c86-45bc-8cd3-34f093afbcb8",
   "metadata": {},
   "outputs": [],
   "source": []
  }
 ],
 "metadata": {
  "kernelspec": {
   "display_name": "Python 3 (ipykernel)",
   "language": "python",
   "name": "python3"
  },
  "language_info": {
   "codemirror_mode": {
    "name": "ipython",
    "version": 3
   },
   "file_extension": ".py",
   "mimetype": "text/x-python",
   "name": "python",
   "nbconvert_exporter": "python",
   "pygments_lexer": "ipython3",
   "version": "3.12.3"
  },
  "toc": {
   "base_numbering": 1,
   "nav_menu": {},
   "number_sections": true,
   "sideBar": true,
   "skip_h1_title": false,
   "title_cell": "Table of Contents",
   "title_sidebar": "Contents",
   "toc_cell": false,
   "toc_position": {},
   "toc_section_display": true,
   "toc_window_display": false
  },
  "vscode": {
   "interpreter": {
    "hash": "31f2aee4e71d21fbe5cf8b01ff0e069b9275f58929596ceb00d14d90e3e16cd6"
   }
  }
 },
 "nbformat": 4,
 "nbformat_minor": 5
}
