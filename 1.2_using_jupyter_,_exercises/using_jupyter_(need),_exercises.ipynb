{
 "cells": [
  {
   "attachments": {},
   "cell_type": "markdown",
   "id": "123456",
   "metadata": {},
   "source": [
    "<div style=\"text-align:left;font-size:2em\"><span style=\"font-weight:bolder;font-size:1.25em\">SP2273 | Learning Portfolio</span><br><br><span style=\"font-weight:bold;color:darkred\">Using Jupyter (Need), Exercises</span></div>"
   ]
  },
  {
   "attachments": {},
   "cell_type": "markdown",
   "id": "6e27dc7d",
   "metadata": {},
   "source": [
    "## 1 Quadratic Equations"
   ]
  },
  {
   "attachments": {},
   "cell_type": "markdown",
   "id": "0751d29f",
   "metadata": {},
   "source": [
    "### Introduction"
   ]
  },
  {
   "cell_type": "markdown",
   "id": "6254091f-ff1d-4d2e-b7f6-66af5f58cff4",
   "metadata": {},
   "source": [
    "![](https://upload.wikimedia.org/wikipedia/commons/thumb/f/f8/Polynomialdeg2.svg/300px-Polynomialdeg2.svg.png)\n",
    "\n",
    "*(Image from the [Wikipedia page on Quadratic equations](https://en.wikipedia.org/wiki/Quadratic_equation))*\n",
    "\n",
    "The general form of a quadratic equation is:\n",
    "\n",
    "$$ a^2 + bx + c = 0 $$\n"
   ]
  },
  {
   "attachments": {},
   "cell_type": "markdown",
   "id": "c974161c",
   "metadata": {},
   "source": [
    "### Solutions"
   ]
  },
  {
   "cell_type": "markdown",
   "id": "9df71882-9b08-4117-90c9-099542e14559",
   "metadata": {},
   "source": [
    "\n",
    "Provided $ a \\ne 0 $, we can use an elementary algebraic method called [completing the square](https://en.wikipedia.org/wiki/Completing_the_square) to show that a quadratic equation has the following solution:\n",
    "\n",
    "$$\n",
    "x = \\dfrac{-b \\pm \\sqrt{b^2-4ac}}{2a}\n",
    "$$\n"
   ]
  },
  {
   "attachments": {},
   "cell_type": "markdown",
   "id": "434b65de",
   "metadata": {},
   "source": [
    "### Discriminant"
   ]
  },
  {
   "cell_type": "markdown",
   "id": "9bb135e3-8aa3-4bc1-9e5e-9e88f115169b",
   "metadata": {},
   "source": [
    "\n",
    "The quantity $ \\Delta =b^2 - 4ac $ is called the **discriminant** of the equation and decides the nature of its solutions. The table below shows the various possibilities.\n",
    "\n",
    "|Discriminant|Roots|\n",
    "|---|---|\n",
    "|$\\Delta = b^2 -4ac = 0$|A single solution of $-b/(2ac)$|\n",
    "|$\\Delta = b^2 -4ac > 0 $|Two distinct solutions|\n",
    "|$\\Delta = b^2 -4ac < 0 $|No real solutions; both are complex.|\n"
   ]
  },
  {
   "cell_type": "markdown",
   "id": "224d83ae-68a0-47cb-b7be-7458b9b23b14",
   "metadata": {},
   "source": [
    "Exercise 2\n",
    "## **Exercise 2**\n",
    "1. A **git repository** is the file location on github where files are contained\n",
    "2. Git keeps track of **changes in the code** in our repository ?\n",
    "3. A **commit** is confirming a change in a file\n",
    "4. A **push** is syncing local changes with the repository\n",
    "5. A **pull** is syncing to a previous change from the repository\n",
    "6. **Github** is a website used by many people to host code and files for various purposes while **Github Desktop** is an application that enables you to sync changes between a local clone of a repository and its remote equivalent on the Github website.\n"
   ]
  },
  {
   "cell_type": "markdown",
   "id": "80c0f891-6af6-4986-9f5d-9eab2571c222",
   "metadata": {},
   "source": [
    "## **Exercise 3**\n",
    "\n",
    "$$ \\mu = \\dfrac{1}{n} \\sum_{i=1}^n x_i$$\n",
    "$$ \\sigma = \\sqrt{\\dfrac{1}{n} \\sum_{i=1}^n (x_i - \\mu)^2}$$\n",
    "$$ \\tau = \\dfrac{\\sum_{x=i}^n(x_i-\\mu x)(y_i - \\mu y)}{\\sqrt{\\sum{i=1}^n(x_i - \\mu x)^2 \\sum_{i=1}^n(y_i - \\mu y)^2}} $$\n"
   ]
  },
  {
   "cell_type": "code",
   "execution_count": null,
   "id": "d278ccae-2b73-4fb7-ba87-3a1f1472d77c",
   "metadata": {},
   "outputs": [],
   "source": []
  }
 ],
 "metadata": {
  "kernelspec": {
   "display_name": "Python 3 (ipykernel)",
   "language": "python",
   "name": "python3"
  },
  "language_info": {
   "codemirror_mode": {
    "name": "ipython",
    "version": 3
   },
   "file_extension": ".py",
   "mimetype": "text/x-python",
   "name": "python",
   "nbconvert_exporter": "python",
   "pygments_lexer": "ipython3",
   "version": "3.12.3"
  },
  "toc": {
   "base_numbering": 1,
   "nav_menu": {},
   "number_sections": true,
   "sideBar": true,
   "skip_h1_title": false,
   "title_cell": "Table of Contents",
   "title_sidebar": "Contents",
   "toc_cell": false,
   "toc_position": {},
   "toc_section_display": true,
   "toc_window_display": false
  },
  "vscode": {
   "interpreter": {
    "hash": "31f2aee4e71d21fbe5cf8b01ff0e069b9275f58929596ceb00d14d90e3e16cd6"
   }
  }
 },
 "nbformat": 4,
 "nbformat_minor": 5
}
