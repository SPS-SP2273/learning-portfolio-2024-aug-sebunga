{
 "cells": [
  {
   "attachments": {},
   "cell_type": "markdown",
   "id": "123456",
   "metadata": {},
   "source": [
    "<div style=\"text-align:left;font-size:2em\"><span style=\"font-weight:bolder;font-size:1.25em\">SP2273 | Learning Portfolio</span><br><br><span style=\"font-weight:bold;color:darkred\">Files, Folders & OS (Need) Exercises</span></div>"
   ]
  },
  {
   "cell_type": "code",
   "execution_count": 19,
   "id": "a96c480f-dbf3-4e18-9b80-373ec741a27d",
   "metadata": {
    "scrolled": true
   },
   "outputs": [
    {
     "name": "stdout",
     "output_type": "stream",
     "text": [
      "10-08_singapore.txt\n"
     ]
    }
   ],
   "source": [
    "#Exercise Task 1\n",
    "import os\n",
    "import shutil\n",
    "import glob\n",
    "\n",
    "month_formatting = {\n",
    "'jan': '01', 'feb': '02', 'mar': '03',\n",
    "'apr': '04', 'may': '05', 'jun': '06',\n",
    "'jul': '07', 'aug': '08', 'sep': '09',\n",
    "'oct': '10', 'nov': '11', 'dec': '12'\n",
    "}\n",
    "\n",
    "oldname='oct-08_singapore.txt'\n",
    "\n",
    "for months_word, months_number in month_formatting.items():\n",
    "    if oldname[:3] in months_word:\n",
    "        replace_month = month_formatting[months_word]\n",
    "        print(oldname.replace(oldname[:3],replace_month))\n",
    "\n",
    "#oldname.replace(oldname[:3],replace_month)"
   ]
  },
  {
   "cell_type": "code",
   "execution_count": 20,
   "id": "413b7bea-4479-4452-9cbd-75e3f3fb2016",
   "metadata": {},
   "outputs": [
    {
     "data": {
      "text/plain": [
       "'07-10'"
      ]
     },
     "execution_count": 20,
     "metadata": {},
     "output_type": "execute_result"
    }
   ],
   "source": [
    "#Task 2\n",
    "\n",
    "month_formatting = {\n",
    "'jan': '01', 'feb': '02', 'mar': '03',\n",
    "'apr': '04', 'may': '05', 'jun': '06',\n",
    "'jul': '07', 'aug': '08', 'sep': '09',\n",
    "'oct': '10', 'nov': '11', 'dec': '12'\n",
    "}\n",
    "\n",
    "def rename_my_file(oldname):\n",
    "    for months_word, months_number in month_formatting.items():\n",
    "        if oldname[:3] in months_word:\n",
    "            replace_month = month_formatting[months_word]\n",
    "            return(oldname.replace(oldname[:3],replace_month))\n",
    "\n",
    "#rename_my_file('jul-10')"
   ]
  },
  {
   "cell_type": "code",
   "execution_count": 25,
   "id": "3dfff64c-1fc7-4ef1-8e5b-a1dfb1b8859d",
   "metadata": {
    "scrolled": true
   },
   "outputs": [
    {
     "name": "stdout",
     "output_type": "stream",
     "text": [
      "oct-08_singapore.txt ----> 10-08_singapore.txt\n",
      "jul-10_cairo.txt ----> 07-10_cairo.txt\n",
      "may-15_dhaka.txt ----> 05-15_dhaka.txt\n",
      "may-13_cairo.txt ----> 05-13_cairo.txt\n",
      "oct-21_cairo.txt ----> 10-21_cairo.txt\n",
      "jan-10_singapore.txt ----> 01-10_singapore.txt\n",
      "jun-20_tokyo.txt ----> 06-20_tokyo.txt\n",
      "aug-06_jakarta.txt ----> 08-06_jakarta.txt\n",
      "dec-21_karachi.txt ----> 12-21_karachi.txt\n",
      "jan-01_tokyo.txt ----> 01-01_tokyo.txt\n"
     ]
    }
   ],
   "source": [
    "#Task 3\n",
    "\n",
    "month_formatting = {\n",
    "'jan': '01', 'feb': '02', 'mar': '03',\n",
    "'apr': '04', 'may': '05', 'jun': '06',\n",
    "'jul': '07', 'aug': '08', 'sep': '09',\n",
    "'oct': '10', 'nov': '11', 'dec': '12'\n",
    "}\n",
    "\n",
    "def rename_my_file(oldname):\n",
    "    for months_word, months_number in month_formatting.items():\n",
    "        if oldname[:3] in months_word:\n",
    "            replace_month = month_formatting[months_word]\n",
    "            return(oldname.replace(oldname[:3],replace_month))\n",
    "\n",
    "filesList = ['oct-08_singapore.txt', 'jul-10_cairo.txt', 'may-15_dhaka.txt',\n",
    " 'may-13_cairo.txt', 'oct-21_cairo.txt', 'jan-10_singapore.txt',\n",
    " 'jun-20_tokyo.txt', 'aug-06_jakarta.txt', 'dec-21_karachi.txt',\n",
    " 'jan-01_tokyo.txt']\n",
    "\n",
    "for dates in filesList:\n",
    "    print(f'{dates} ----> {rename_my_file(dates)}')\n",
    "    "
   ]
  },
  {
   "cell_type": "code",
   "execution_count": 35,
   "id": "813cc74d-7c28-4549-8e9b-5a180647faaf",
   "metadata": {},
   "outputs": [],
   "source": [
    "#Task 4\n",
    "import os\n",
    "import glob\n",
    "\n",
    "os.chdir(os.path.join('..','os-collaboration-exercise-data'))\n",
    "filesList = glob.glob('*.txt')\n",
    "\n",
    "month_formatting = {\n",
    "'jan': '01', 'feb': '02', 'mar': '03',\n",
    "'apr': '04', 'may': '05', 'jun': '06',\n",
    "'jul': '07', 'aug': '08', 'sep': '09',\n",
    "'oct': '10', 'nov': '11', 'dec': '12'\n",
    "}\n",
    "\n",
    "def rename_my_file(oldname):\n",
    "    for months_word, months_number in month_formatting.items():\n",
    "        if oldname[:3] in months_word:\n",
    "            replace_month = month_formatting[months_word]\n",
    "            return(oldname.replace(oldname[:3],replace_month))\n",
    "\n",
    "\n",
    "for file in filesList:\n",
    "    x=''\n",
    "    x = rename_my_file(file)\n",
    "    os.rename(f'{file}',f'{x}')\n"
   ]
  },
  {
   "cell_type": "code",
   "execution_count": 2,
   "id": "ccb41bde-3f47-4c2b-aad3-ea314d65b1da",
   "metadata": {},
   "outputs": [],
   "source": [
    "#Task 5\n",
    "import os\n",
    "os.chdir(os.path.join('..','os-collaboration-exercise-data'))\n",
    "location = ['Cairo', 'Dhaka', 'Jakarta', 'Karachi', 'Manila',\n",
    " 'Melbourne', 'Osaka', 'Shanghai', 'Singapore', 'Tokyo']\n",
    "\n",
    "for city in location:\n",
    "    os.mkdir(city)\n",
    "    "
   ]
  },
  {
   "cell_type": "code",
   "execution_count": 37,
   "id": "fbd41e43-2928-4575-9d98-88213d0262cb",
   "metadata": {
    "collapsed": true,
    "jupyter": {
     "outputs_hidden": true
    }
   },
   "outputs": [
    {
     "ename": "PermissionError",
     "evalue": "[Errno 13] Permission denied: 'Cairo'",
     "output_type": "error",
     "traceback": [
      "\u001b[1;31m---------------------------------------------------------------------------\u001b[0m",
      "\u001b[1;31mPermissionError\u001b[0m                           Traceback (most recent call last)",
      "Cell \u001b[1;32mIn[37], line 9\u001b[0m\n\u001b[0;32m      6\u001b[0m cairo_files \u001b[38;5;241m=\u001b[39m glob\u001b[38;5;241m.\u001b[39mglob(\u001b[38;5;124m'\u001b[39m\u001b[38;5;124m*cairo*\u001b[39m\u001b[38;5;124m'\u001b[39m)\n\u001b[0;32m      8\u001b[0m \u001b[38;5;28;01mfor\u001b[39;00m files \u001b[38;5;129;01min\u001b[39;00m cairo_files:\n\u001b[1;32m----> 9\u001b[0m     \u001b[43mshutil\u001b[49m\u001b[38;5;241;43m.\u001b[39;49m\u001b[43mcopy\u001b[49m\u001b[43m(\u001b[49m\u001b[43mfiles\u001b[49m\u001b[43m,\u001b[49m\u001b[38;5;124;43m'\u001b[39;49m\u001b[38;5;124;43mCairo\u001b[39;49m\u001b[38;5;124;43m'\u001b[39;49m\u001b[43m)\u001b[49m\n\u001b[0;32m     11\u001b[0m \u001b[38;5;66;03m#it works even though it says permission denied\u001b[39;00m\n",
      "File \u001b[1;32m~\\miniconda3\\Lib\\shutil.py:435\u001b[0m, in \u001b[0;36mcopy\u001b[1;34m(src, dst, follow_symlinks)\u001b[0m\n\u001b[0;32m    433\u001b[0m \u001b[38;5;28;01mif\u001b[39;00m os\u001b[38;5;241m.\u001b[39mpath\u001b[38;5;241m.\u001b[39misdir(dst):\n\u001b[0;32m    434\u001b[0m     dst \u001b[38;5;241m=\u001b[39m os\u001b[38;5;241m.\u001b[39mpath\u001b[38;5;241m.\u001b[39mjoin(dst, os\u001b[38;5;241m.\u001b[39mpath\u001b[38;5;241m.\u001b[39mbasename(src))\n\u001b[1;32m--> 435\u001b[0m \u001b[43mcopyfile\u001b[49m\u001b[43m(\u001b[49m\u001b[43msrc\u001b[49m\u001b[43m,\u001b[49m\u001b[43m \u001b[49m\u001b[43mdst\u001b[49m\u001b[43m,\u001b[49m\u001b[43m \u001b[49m\u001b[43mfollow_symlinks\u001b[49m\u001b[38;5;241;43m=\u001b[39;49m\u001b[43mfollow_symlinks\u001b[49m\u001b[43m)\u001b[49m\n\u001b[0;32m    436\u001b[0m copymode(src, dst, follow_symlinks\u001b[38;5;241m=\u001b[39mfollow_symlinks)\n\u001b[0;32m    437\u001b[0m \u001b[38;5;28;01mreturn\u001b[39;00m dst\n",
      "File \u001b[1;32m~\\miniconda3\\Lib\\shutil.py:260\u001b[0m, in \u001b[0;36mcopyfile\u001b[1;34m(src, dst, follow_symlinks)\u001b[0m\n\u001b[0;32m    258\u001b[0m     os\u001b[38;5;241m.\u001b[39msymlink(os\u001b[38;5;241m.\u001b[39mreadlink(src), dst)\n\u001b[0;32m    259\u001b[0m \u001b[38;5;28;01melse\u001b[39;00m:\n\u001b[1;32m--> 260\u001b[0m     \u001b[38;5;28;01mwith\u001b[39;00m \u001b[38;5;28;43mopen\u001b[39;49m\u001b[43m(\u001b[49m\u001b[43msrc\u001b[49m\u001b[43m,\u001b[49m\u001b[43m \u001b[49m\u001b[38;5;124;43m'\u001b[39;49m\u001b[38;5;124;43mrb\u001b[39;49m\u001b[38;5;124;43m'\u001b[39;49m\u001b[43m)\u001b[49m \u001b[38;5;28;01mas\u001b[39;00m fsrc:\n\u001b[0;32m    261\u001b[0m         \u001b[38;5;28;01mtry\u001b[39;00m:\n\u001b[0;32m    262\u001b[0m             \u001b[38;5;28;01mwith\u001b[39;00m \u001b[38;5;28mopen\u001b[39m(dst, \u001b[38;5;124m'\u001b[39m\u001b[38;5;124mwb\u001b[39m\u001b[38;5;124m'\u001b[39m) \u001b[38;5;28;01mas\u001b[39;00m fdst:\n\u001b[0;32m    263\u001b[0m                 \u001b[38;5;66;03m# macOS\u001b[39;00m\n",
      "\u001b[1;31mPermissionError\u001b[0m: [Errno 13] Permission denied: 'Cairo'"
     ]
    }
   ],
   "source": [
    "#Task 6\n",
    "import shutil\n",
    "import os\n",
    "\n",
    "os.chdir(os.path.join('..','os-collaboration-exercise-data'))\n",
    "cairo_files = glob.glob('*cairo*')\n",
    "\n",
    "for files in cairo_files:\n",
    "    shutil.copy(files,'Cairo')\n",
    "\n",
    "#it works even though it says permission denied"
   ]
  },
  {
   "cell_type": "code",
   "execution_count": 43,
   "id": "bce1af37-0200-40f3-85cd-bd875e4cdfd9",
   "metadata": {},
   "outputs": [
    {
     "name": "stdout",
     "output_type": "stream",
     "text": [
      "C:\\Users\\Seb\\Documents\\GitHub\\learning-portfolio-2024-aug-sebunga\\os-collaboration-exercise-data\n"
     ]
    },
    {
     "ename": "IndexError",
     "evalue": "list index out of range",
     "output_type": "error",
     "traceback": [
      "\u001b[1;31m---------------------------------------------------------------------------\u001b[0m",
      "\u001b[1;31mIndexError\u001b[0m                                Traceback (most recent call last)",
      "Cell \u001b[1;32mIn[43], line 20\u001b[0m\n\u001b[0;32m     18\u001b[0m \u001b[38;5;28;01mtry\u001b[39;00m:\n\u001b[0;32m     19\u001b[0m     files\u001b[38;5;241m=\u001b[39m glob\u001b[38;5;241m.\u001b[39mglob((\u001b[38;5;124mf\u001b[39m\u001b[38;5;124m'\u001b[39m\u001b[38;5;124m*\u001b[39m\u001b[38;5;132;01m{\u001b[39;00mterms\u001b[38;5;132;01m}\u001b[39;00m\u001b[38;5;124m*\u001b[39m\u001b[38;5;124m'\u001b[39m))\n\u001b[1;32m---> 20\u001b[0m     location_name \u001b[38;5;241m=\u001b[39m \u001b[43mfile_locations\u001b[49m\u001b[43m[\u001b[49m\u001b[43mx\u001b[49m\u001b[43m]\u001b[49m\n\u001b[0;32m     21\u001b[0m     path\u001b[38;5;241m=\u001b[39m os\u001b[38;5;241m.\u001b[39mgetcwd()\n\u001b[0;32m     22\u001b[0m     desired_location \u001b[38;5;241m=\u001b[39m os\u001b[38;5;241m.\u001b[39mpath\u001b[38;5;241m.\u001b[39mjoin(path, location_name)\n",
      "\u001b[1;31mIndexError\u001b[0m: list index out of range"
     ]
    }
   ],
   "source": [
    "#Task 7\n",
    "import os\n",
    "import glob\n",
    "import shutil\n",
    "\n",
    "#os.chdir(os.path.join('..','os-collaboration-exercise-data'))\n",
    "print(os.getcwd())\n",
    "\n",
    "file_locations =['Cairo', 'Dhaka']\n",
    "#, 'Jakarta', 'Karachi', 'Manila', 'Melbourne', 'Osaka', 'Shanghai', 'Singapore', 'Tokyo'\n",
    "search_terms = ['cairo', 'dhaka']\n",
    "#, 'jakarta', 'karachi', 'manila', 'melbourne', 'osaka', 'shanghai', 'singapore', 'tokyo'\n",
    "x=-1\n",
    "\n",
    "for terms in search_terms:\n",
    "    x += 1\n",
    "    try:\n",
    "        files= glob.glob((f'*{terms}*'))\n",
    "        location_name = file_locations[x]\n",
    "        path= os.getcwd()\n",
    "        desired_location = os.path.join(path, location_name)\n",
    "        for file in files:\n",
    "            shutil.move(file, desired_location) \n",
    "    except FileExistsError:\n",
    "        print(f'File already exists')\n",
    "     "
   ]
  },
  {
   "cell_type": "code",
   "execution_count": null,
   "id": "a7fc5256-a578-4e64-ade5-bee9779bd306",
   "metadata": {},
   "outputs": [],
   "source": []
  }
 ],
 "metadata": {
  "kernelspec": {
   "display_name": "Python 3 (ipykernel)",
   "language": "python",
   "name": "python3"
  },
  "language_info": {
   "codemirror_mode": {
    "name": "ipython",
    "version": 3
   },
   "file_extension": ".py",
   "mimetype": "text/x-python",
   "name": "python",
   "nbconvert_exporter": "python",
   "pygments_lexer": "ipython3",
   "version": "3.12.3"
  },
  "toc": {
   "base_numbering": 1,
   "nav_menu": {},
   "number_sections": true,
   "sideBar": true,
   "skip_h1_title": false,
   "title_cell": "Table of Contents",
   "title_sidebar": "Contents",
   "toc_cell": false,
   "toc_position": {},
   "toc_section_display": true,
   "toc_window_display": false
  },
  "vscode": {
   "interpreter": {
    "hash": "31f2aee4e71d21fbe5cf8b01ff0e069b9275f58929596ceb00d14d90e3e16cd6"
   }
  }
 },
 "nbformat": 4,
 "nbformat_minor": 5
}
